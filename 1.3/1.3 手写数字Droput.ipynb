{
 "cells": [
  {
   "cell_type": "code",
   "execution_count": null,
   "metadata": {},
   "outputs": [],
   "source": [
    "import tensorflow as tf\n",
    "import numpy as np\n",
    "from matplotlib import pyplot as plt \n",
    "\n",
    "#使用numpy生成200个随即点\n",
    "x_data = np.linspace(-0.5, 0.5, 200)[:,np.newaxis].astype('float32')\n",
    "\n",
    "\n",
    "noise = np.random.normal(0, 0.02, x_data.shape)\n",
    "y_data = np.square(x_data) + noise\n",
    "#print(y_data)\n",
    "#定义两个placeholder\n",
    "x = tf.placeholder(tf.float32, [None, 1])\n",
    "y = tf.placeholder(tf.float32, [None, 1])\n",
    "\n",
    "#定义神经网络中间层\n",
    "Weights_L1 = tf.Variable(np.random.normal(size=[1,10]).astype('float32'))\n",
    "biases_L1 = tf.Variable(tf.zeros([1, 10]))\n",
    "Wx_plus_b_L1 = tf.matmul(x, Weights_L1) + biases_L1\n",
    "L1 = tf.tanh(Wx_plus_b_L1)\n",
    "\n",
    "print(L1)\n",
    "#定义输出层\n",
    "Weights_L2 = tf.Variable(np.random.normal(size=[10,1]).astype('float32'))\n",
    "biases_L2 = tf.Variable(tf.zeros([1,1]))\n",
    "Wx_plus_b_L2 = tf.matmul(L1, Weights_L2) + biases_L2\n",
    "prediction =  tf.tanh(Wx_plus_b_L2)\n",
    "\n",
    "#定义一个代价函数\n",
    "loss = tf.reduce_mean(tf.square(y - prediction))\n",
    "#使用梯度下降法\n",
    "train_step = tf.train.GradientDescentOptimizer(0.1).minimize(loss)\n",
    "\n",
    "with tf.Session() as sess:\n",
    "    sess.run(tf.global_variables_initializer())\n",
    "    for _ in range(20000):\n",
    "        sess.run(train_step, feed_dict={x:x_data, y:y_data})\n",
    "    #获取预测值\n",
    "    prediction_value = sess.run(prediction, feed_dict={x:x_data})\n",
    "    \n",
    "    #画图\n",
    "    plt.figure()\n",
    "    plt.scatter(x_data, y_data)\n",
    "    plt.plot(x_data, prediction_value)\n",
    "    plt.show()"
   ]
  }
 ],
 "metadata": {
  "kernelspec": {
   "display_name": "“3.6.7”",
   "language": "python",
   "name": "python3.6.7"
  },
  "language_info": {
   "codemirror_mode": {
    "name": "ipython",
    "version": 3
   },
   "file_extension": ".py",
   "mimetype": "text/x-python",
   "name": "python",
   "nbconvert_exporter": "python",
   "pygments_lexer": "ipython3",
   "version": "3.6.7"
  }
 },
 "nbformat": 4,
 "nbformat_minor": 2
}
